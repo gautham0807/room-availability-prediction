{
 "cells": [
  {
   "cell_type": "markdown",
   "metadata": {
    "colab_type": "text",
    "id": "x_BkOtqBIKQz"
   },
   "source": [
    "# Data Science Challenge"
   ]
  },
  {
   "cell_type": "code",
   "execution_count": null,
   "metadata": {
    "colab": {},
    "colab_type": "code",
    "id": "U_VthdACIKQ6"
   },
   "outputs": [],
   "source": [
    "# To install packages that are not installed by default, uncomment the last two lines \n",
    "# of this cell and replace <package list> with a list of necessary packages.\n",
    "# This will ensure the notebook has all the dependencies and works everywhere.\n",
    "\n",
    "#import sys\n",
    "#!{sys.executable} -m pip install <package list>"
   ]
  },
  {
   "cell_type": "code",
   "execution_count": 3,
   "metadata": {
    "colab": {},
    "colab_type": "code",
    "id": "VzGFUCCVIKRL"
   },
   "outputs": [],
   "source": [
    "#Libraries\n",
    "import numpy as np\n",
    "import pandas as pd\n",
    "import matplotlib.pyplot as plt\n",
    "pd.set_option(\"display.max_columns\", 101)"
   ]
  },
  {
   "cell_type": "markdown",
   "metadata": {
    "colab_type": "text",
    "id": "TZ23KNY8IKRT"
   },
   "source": [
    "## Data Description"
   ]
  },
  {
   "cell_type": "markdown",
   "metadata": {
    "colab_type": "text",
    "id": "jWSkqquEIKRW"
   },
   "source": [
    "Column | Description\n",
    ":---|:---\n",
    "`id` | The unique ID assigned to every hotel.\n",
    "`region` | The region in which the hotel is located..\n",
    "`latitude` | The latitude of the hotel.\n",
    "`longitude` | The longitude of the hotel.\n",
    "`accommodation_type` | The type of accommodation offered by the hotel. For example: Private room, Entire house/apt, etc.\n",
    "`cost` | The cost of booking the hotel for one night. (in \\$\\$)\n",
    "`minimum_nights` | The minimum number of nights stay required.\n",
    "`number_of_reviews` | The number of reviews accumulated by the hotel.\n",
    "`reviews_per_month` | The average number of reviews received by the hotel per month.\n",
    "`owner_id` | The unique ID assigned to every owner. An owner can own multiple hotels.\n",
    "`owned_hotels` | The number of hotels owned by the owner.\n",
    "`yearly_availability` | It indicates if the hotel accepts bookings around the year. Values are 0 (not available for 365 days in a year) and 1 (available for 365 days in a year)."
   ]
  },
  {
   "cell_type": "markdown",
   "metadata": {
    "colab_type": "text",
    "id": "BWQqx7cSIKRX"
   },
   "source": [
    "## Data Wrangling & Visualization"
   ]
  },
  {
   "cell_type": "code",
   "execution_count": 141,
   "metadata": {
    "colab": {},
    "colab_type": "code",
    "id": "SsjL7tf7IKRc"
   },
   "outputs": [],
   "source": [
    "# Dataset is already loaded below\n",
    "data = pd.read_csv(\"train.csv\")"
   ]
  },
  {
   "cell_type": "code",
   "execution_count": 142,
   "metadata": {
    "colab": {},
    "colab_type": "code",
    "id": "kzuHtZEkIKRh",
    "outputId": "9d14832c-2eda-48eb-df41-548113a94a73"
   },
   "outputs": [
    {
     "data": {
      "text/html": [
       "<div>\n",
       "<style scoped>\n",
       "    .dataframe tbody tr th:only-of-type {\n",
       "        vertical-align: middle;\n",
       "    }\n",
       "\n",
       "    .dataframe tbody tr th {\n",
       "        vertical-align: top;\n",
       "    }\n",
       "\n",
       "    .dataframe thead th {\n",
       "        text-align: right;\n",
       "    }\n",
       "</style>\n",
       "<table border=\"1\" class=\"dataframe\">\n",
       "  <thead>\n",
       "    <tr style=\"text-align: right;\">\n",
       "      <th></th>\n",
       "      <th>id</th>\n",
       "      <th>region</th>\n",
       "      <th>latitude</th>\n",
       "      <th>longitude</th>\n",
       "      <th>accommodation_type</th>\n",
       "      <th>cost</th>\n",
       "      <th>minimum_nights</th>\n",
       "      <th>number_of_reviews</th>\n",
       "      <th>reviews_per_month</th>\n",
       "      <th>owner_id</th>\n",
       "      <th>owned_hotels</th>\n",
       "      <th>yearly_availability</th>\n",
       "    </tr>\n",
       "  </thead>\n",
       "  <tbody>\n",
       "    <tr>\n",
       "      <th>0</th>\n",
       "      <td>13232</td>\n",
       "      <td>Manhattan</td>\n",
       "      <td>40.71854</td>\n",
       "      <td>-74.00439</td>\n",
       "      <td>Entire home/apt</td>\n",
       "      <td>170</td>\n",
       "      <td>5</td>\n",
       "      <td>7</td>\n",
       "      <td>0.56</td>\n",
       "      <td>929983</td>\n",
       "      <td>1</td>\n",
       "      <td>0</td>\n",
       "    </tr>\n",
       "    <tr>\n",
       "      <th>1</th>\n",
       "      <td>246</td>\n",
       "      <td>Brooklyn</td>\n",
       "      <td>40.64446</td>\n",
       "      <td>-73.95030</td>\n",
       "      <td>Entire home/apt</td>\n",
       "      <td>65</td>\n",
       "      <td>3</td>\n",
       "      <td>238</td>\n",
       "      <td>2.30</td>\n",
       "      <td>281764</td>\n",
       "      <td>1</td>\n",
       "      <td>0</td>\n",
       "    </tr>\n",
       "    <tr>\n",
       "      <th>2</th>\n",
       "      <td>19091</td>\n",
       "      <td>Queens</td>\n",
       "      <td>40.78573</td>\n",
       "      <td>-73.81062</td>\n",
       "      <td>Private room</td>\n",
       "      <td>85</td>\n",
       "      <td>1</td>\n",
       "      <td>0</td>\n",
       "      <td>NaN</td>\n",
       "      <td>19923341</td>\n",
       "      <td>1</td>\n",
       "      <td>1</td>\n",
       "    </tr>\n",
       "    <tr>\n",
       "      <th>3</th>\n",
       "      <td>34305</td>\n",
       "      <td>Manhattan</td>\n",
       "      <td>40.73863</td>\n",
       "      <td>-73.98002</td>\n",
       "      <td>Private room</td>\n",
       "      <td>210</td>\n",
       "      <td>30</td>\n",
       "      <td>0</td>\n",
       "      <td>NaN</td>\n",
       "      <td>200380610</td>\n",
       "      <td>65</td>\n",
       "      <td>1</td>\n",
       "    </tr>\n",
       "    <tr>\n",
       "      <th>4</th>\n",
       "      <td>444</td>\n",
       "      <td>Manhattan</td>\n",
       "      <td>40.82426</td>\n",
       "      <td>-73.94630</td>\n",
       "      <td>Shared room</td>\n",
       "      <td>75</td>\n",
       "      <td>3</td>\n",
       "      <td>38</td>\n",
       "      <td>0.42</td>\n",
       "      <td>745069</td>\n",
       "      <td>3</td>\n",
       "      <td>1</td>\n",
       "    </tr>\n",
       "  </tbody>\n",
       "</table>\n",
       "</div>"
      ],
      "text/plain": [
       "      id     region  latitude  longitude accommodation_type  cost  \\\n",
       "0  13232  Manhattan  40.71854  -74.00439    Entire home/apt   170   \n",
       "1    246   Brooklyn  40.64446  -73.95030    Entire home/apt    65   \n",
       "2  19091     Queens  40.78573  -73.81062       Private room    85   \n",
       "3  34305  Manhattan  40.73863  -73.98002       Private room   210   \n",
       "4    444  Manhattan  40.82426  -73.94630        Shared room    75   \n",
       "\n",
       "   minimum_nights  number_of_reviews  reviews_per_month   owner_id  \\\n",
       "0               5                  7               0.56     929983   \n",
       "1               3                238               2.30     281764   \n",
       "2               1                  0                NaN   19923341   \n",
       "3              30                  0                NaN  200380610   \n",
       "4               3                 38               0.42     745069   \n",
       "\n",
       "   owned_hotels  yearly_availability  \n",
       "0             1                    0  \n",
       "1             1                    0  \n",
       "2             1                    1  \n",
       "3            65                    1  \n",
       "4             3                    1  "
      ]
     },
     "execution_count": 142,
     "metadata": {},
     "output_type": "execute_result"
    }
   ],
   "source": [
    "data.head()"
   ]
  },
  {
   "cell_type": "code",
   "execution_count": 5,
   "metadata": {
    "colab": {},
    "colab_type": "code",
    "id": "0mhMZRlBIKRu",
    "outputId": "0a669059-5528-4ec0-d64b-8231f6aadf45"
   },
   "outputs": [
    {
     "data": {
      "text/plain": [
       "Index(['id', 'region', 'latitude', 'longitude', 'accommodation_type', 'cost',\n",
       "       'minimum_nights', 'number_of_reviews', 'reviews_per_month', 'owner_id',\n",
       "       'owned_hotels', 'yearly_availability'],\n",
       "      dtype='object')"
      ]
     },
     "execution_count": 5,
     "metadata": {},
     "output_type": "execute_result"
    }
   ],
   "source": [
    "#Explore columns\n",
    "data.columns"
   ]
  },
  {
   "cell_type": "code",
   "execution_count": 6,
   "metadata": {},
   "outputs": [
    {
     "name": "stdout",
     "output_type": "stream",
     "text": [
      "<class 'pandas.core.frame.DataFrame'>\n",
      "RangeIndex: 2870 entries, 0 to 2869\n",
      "Data columns (total 12 columns):\n",
      "id                     2870 non-null int64\n",
      "region                 2870 non-null object\n",
      "latitude               2870 non-null float64\n",
      "longitude              2870 non-null float64\n",
      "accommodation_type     2870 non-null object\n",
      "cost                   2870 non-null int64\n",
      "minimum_nights         2870 non-null int64\n",
      "number_of_reviews      2870 non-null int64\n",
      "reviews_per_month      2194 non-null float64\n",
      "owner_id               2870 non-null int64\n",
      "owned_hotels           2870 non-null int64\n",
      "yearly_availability    2870 non-null int64\n",
      "dtypes: float64(3), int64(7), object(2)\n",
      "memory usage: 269.2+ KB\n"
     ]
    }
   ],
   "source": [
    "data.info()"
   ]
  },
  {
   "cell_type": "code",
   "execution_count": 7,
   "metadata": {},
   "outputs": [
    {
     "data": {
      "text/plain": [
       "id                       0\n",
       "region                   0\n",
       "latitude                 0\n",
       "longitude                0\n",
       "accommodation_type       0\n",
       "cost                     0\n",
       "minimum_nights           0\n",
       "number_of_reviews        0\n",
       "reviews_per_month      676\n",
       "owner_id                 0\n",
       "owned_hotels             0\n",
       "yearly_availability      0\n",
       "dtype: int64"
      ]
     },
     "execution_count": 7,
     "metadata": {},
     "output_type": "execute_result"
    }
   ],
   "source": [
    "#checking for null values\n",
    "data.isna().sum()"
   ]
  },
  {
   "cell_type": "markdown",
   "metadata": {},
   "source": [
    "We seem to have 676 null values on what seems to be an important feature to predict yearly availability - reviews per month. "
   ]
  },
  {
   "cell_type": "code",
   "execution_count": 9,
   "metadata": {},
   "outputs": [
    {
     "data": {
      "text/plain": [
       "array([0.56, 2.3 ,  nan, ..., 0.67,  nan, 0.33])"
      ]
     },
     "execution_count": 9,
     "metadata": {},
     "output_type": "execute_result"
    }
   ],
   "source": [
    "data['reviews_per_month'].values"
   ]
  },
  {
   "cell_type": "markdown",
   "metadata": {},
   "source": [
    "We impute the missing values with zero since we cannot afford removing as many rows and zero serves as a close approximation to actual scenario."
   ]
  },
  {
   "cell_type": "code",
   "execution_count": 143,
   "metadata": {},
   "outputs": [],
   "source": [
    "data['reviews_per_month'].fillna(0, inplace=True)"
   ]
  },
  {
   "cell_type": "code",
   "execution_count": 144,
   "metadata": {},
   "outputs": [
    {
     "data": {
      "text/plain": [
       "id                     0\n",
       "region                 0\n",
       "latitude               0\n",
       "longitude              0\n",
       "accommodation_type     0\n",
       "cost                   0\n",
       "minimum_nights         0\n",
       "number_of_reviews      0\n",
       "reviews_per_month      0\n",
       "owner_id               0\n",
       "owned_hotels           0\n",
       "yearly_availability    0\n",
       "dtype: int64"
      ]
     },
     "execution_count": 144,
     "metadata": {},
     "output_type": "execute_result"
    }
   ],
   "source": [
    "#checking for null values\n",
    "data.isna().sum()"
   ]
  },
  {
   "cell_type": "code",
   "execution_count": 14,
   "metadata": {
    "colab": {},
    "colab_type": "code",
    "id": "-SrTmyfJIKR1",
    "outputId": "12b270ca-8c3f-402b-d6c1-286c17e63fdd"
   },
   "outputs": [
    {
     "data": {
      "text/html": [
       "<div>\n",
       "<style scoped>\n",
       "    .dataframe tbody tr th:only-of-type {\n",
       "        vertical-align: middle;\n",
       "    }\n",
       "\n",
       "    .dataframe tbody tr th {\n",
       "        vertical-align: top;\n",
       "    }\n",
       "\n",
       "    .dataframe thead th {\n",
       "        text-align: right;\n",
       "    }\n",
       "</style>\n",
       "<table border=\"1\" class=\"dataframe\">\n",
       "  <thead>\n",
       "    <tr style=\"text-align: right;\">\n",
       "      <th></th>\n",
       "      <th>id</th>\n",
       "      <th>latitude</th>\n",
       "      <th>longitude</th>\n",
       "      <th>cost</th>\n",
       "      <th>minimum_nights</th>\n",
       "      <th>number_of_reviews</th>\n",
       "      <th>reviews_per_month</th>\n",
       "      <th>owner_id</th>\n",
       "      <th>owned_hotels</th>\n",
       "      <th>yearly_availability</th>\n",
       "    </tr>\n",
       "  </thead>\n",
       "  <tbody>\n",
       "    <tr>\n",
       "      <th>count</th>\n",
       "      <td>2870.000000</td>\n",
       "      <td>2870.000000</td>\n",
       "      <td>2870.000000</td>\n",
       "      <td>2870.000000</td>\n",
       "      <td>2870.000000</td>\n",
       "      <td>2870.000000</td>\n",
       "      <td>2870.000000</td>\n",
       "      <td>2.870000e+03</td>\n",
       "      <td>2870.000000</td>\n",
       "      <td>2870.000000</td>\n",
       "    </tr>\n",
       "    <tr>\n",
       "      <th>mean</th>\n",
       "      <td>26760.657143</td>\n",
       "      <td>40.731224</td>\n",
       "      <td>-73.950158</td>\n",
       "      <td>195.943206</td>\n",
       "      <td>11.530314</td>\n",
       "      <td>16.315331</td>\n",
       "      <td>0.884864</td>\n",
       "      <td>7.202195e+07</td>\n",
       "      <td>8.411498</td>\n",
       "      <td>0.498606</td>\n",
       "    </tr>\n",
       "    <tr>\n",
       "      <th>std</th>\n",
       "      <td>14140.930062</td>\n",
       "      <td>0.054942</td>\n",
       "      <td>0.049745</td>\n",
       "      <td>406.184714</td>\n",
       "      <td>37.972339</td>\n",
       "      <td>32.481722</td>\n",
       "      <td>1.282500</td>\n",
       "      <td>8.076516e+07</td>\n",
       "      <td>27.105522</td>\n",
       "      <td>0.500085</td>\n",
       "    </tr>\n",
       "    <tr>\n",
       "      <th>min</th>\n",
       "      <td>0.000000</td>\n",
       "      <td>40.507080</td>\n",
       "      <td>-74.242850</td>\n",
       "      <td>10.000000</td>\n",
       "      <td>1.000000</td>\n",
       "      <td>0.000000</td>\n",
       "      <td>0.000000</td>\n",
       "      <td>2.787000e+03</td>\n",
       "      <td>1.000000</td>\n",
       "      <td>0.000000</td>\n",
       "    </tr>\n",
       "    <tr>\n",
       "      <th>25%</th>\n",
       "      <td>15931.750000</td>\n",
       "      <td>40.692462</td>\n",
       "      <td>-73.984003</td>\n",
       "      <td>75.000000</td>\n",
       "      <td>1.000000</td>\n",
       "      <td>1.000000</td>\n",
       "      <td>0.030000</td>\n",
       "      <td>7.388002e+06</td>\n",
       "      <td>1.000000</td>\n",
       "      <td>0.000000</td>\n",
       "    </tr>\n",
       "    <tr>\n",
       "      <th>50%</th>\n",
       "      <td>28946.500000</td>\n",
       "      <td>40.728250</td>\n",
       "      <td>-73.956720</td>\n",
       "      <td>120.000000</td>\n",
       "      <td>3.000000</td>\n",
       "      <td>4.000000</td>\n",
       "      <td>0.380000</td>\n",
       "      <td>3.352708e+07</td>\n",
       "      <td>1.000000</td>\n",
       "      <td>0.000000</td>\n",
       "    </tr>\n",
       "    <tr>\n",
       "      <th>75%</th>\n",
       "      <td>38478.500000</td>\n",
       "      <td>40.762658</td>\n",
       "      <td>-73.934202</td>\n",
       "      <td>200.000000</td>\n",
       "      <td>6.000000</td>\n",
       "      <td>16.000000</td>\n",
       "      <td>1.130000</td>\n",
       "      <td>1.207625e+08</td>\n",
       "      <td>3.000000</td>\n",
       "      <td>1.000000</td>\n",
       "    </tr>\n",
       "    <tr>\n",
       "      <th>max</th>\n",
       "      <td>48893.000000</td>\n",
       "      <td>40.898730</td>\n",
       "      <td>-73.721730</td>\n",
       "      <td>9999.000000</td>\n",
       "      <td>999.000000</td>\n",
       "      <td>395.000000</td>\n",
       "      <td>10.370000</td>\n",
       "      <td>2.738123e+08</td>\n",
       "      <td>327.000000</td>\n",
       "      <td>1.000000</td>\n",
       "    </tr>\n",
       "  </tbody>\n",
       "</table>\n",
       "</div>"
      ],
      "text/plain": [
       "                 id     latitude    longitude         cost  minimum_nights  \\\n",
       "count   2870.000000  2870.000000  2870.000000  2870.000000     2870.000000   \n",
       "mean   26760.657143    40.731224   -73.950158   195.943206       11.530314   \n",
       "std    14140.930062     0.054942     0.049745   406.184714       37.972339   \n",
       "min        0.000000    40.507080   -74.242850    10.000000        1.000000   \n",
       "25%    15931.750000    40.692462   -73.984003    75.000000        1.000000   \n",
       "50%    28946.500000    40.728250   -73.956720   120.000000        3.000000   \n",
       "75%    38478.500000    40.762658   -73.934202   200.000000        6.000000   \n",
       "max    48893.000000    40.898730   -73.721730  9999.000000      999.000000   \n",
       "\n",
       "       number_of_reviews  reviews_per_month      owner_id  owned_hotels  \\\n",
       "count        2870.000000        2870.000000  2.870000e+03   2870.000000   \n",
       "mean           16.315331           0.884864  7.202195e+07      8.411498   \n",
       "std            32.481722           1.282500  8.076516e+07     27.105522   \n",
       "min             0.000000           0.000000  2.787000e+03      1.000000   \n",
       "25%             1.000000           0.030000  7.388002e+06      1.000000   \n",
       "50%             4.000000           0.380000  3.352708e+07      1.000000   \n",
       "75%            16.000000           1.130000  1.207625e+08      3.000000   \n",
       "max           395.000000          10.370000  2.738123e+08    327.000000   \n",
       "\n",
       "       yearly_availability  \n",
       "count          2870.000000  \n",
       "mean              0.498606  \n",
       "std               0.500085  \n",
       "min               0.000000  \n",
       "25%               0.000000  \n",
       "50%               0.000000  \n",
       "75%               1.000000  \n",
       "max               1.000000  "
      ]
     },
     "execution_count": 14,
     "metadata": {},
     "output_type": "execute_result"
    }
   ],
   "source": [
    "#Description\n",
    "data.describe()"
   ]
  },
  {
   "cell_type": "code",
   "execution_count": 15,
   "metadata": {
    "colab": {},
    "colab_type": "code",
    "id": "Vel-7S7gIKR9"
   },
   "outputs": [
    {
     "data": {
      "text/plain": [
       "id                       int64\n",
       "region                  object\n",
       "latitude               float64\n",
       "longitude              float64\n",
       "accommodation_type      object\n",
       "cost                     int64\n",
       "minimum_nights           int64\n",
       "number_of_reviews        int64\n",
       "reviews_per_month      float64\n",
       "owner_id                 int64\n",
       "owned_hotels             int64\n",
       "yearly_availability      int64\n",
       "dtype: object"
      ]
     },
     "execution_count": 15,
     "metadata": {},
     "output_type": "execute_result"
    }
   ],
   "source": [
    "data.dtypes"
   ]
  },
  {
   "cell_type": "markdown",
   "metadata": {},
   "source": [
    "**Univariate Analyses**"
   ]
  },
  {
   "cell_type": "code",
   "execution_count": 16,
   "metadata": {
    "colab": {},
    "colab_type": "code",
    "id": "fp1nvdh-IKSE"
   },
   "outputs": [
    {
     "data": {
      "text/plain": [
       "0    1439\n",
       "1    1431\n",
       "Name: yearly_availability, dtype: int64"
      ]
     },
     "execution_count": 16,
     "metadata": {},
     "output_type": "execute_result"
    }
   ],
   "source": [
    "data['yearly_availability'].value_counts()"
   ]
  },
  {
   "cell_type": "markdown",
   "metadata": {
    "colab": {},
    "colab_type": "code",
    "id": "px5KNTQ7IKSK"
   },
   "source": [
    "This seems to be a balanced dataset. Hence we can use accuracy to measure our model performance."
   ]
  },
  {
   "cell_type": "code",
   "execution_count": 22,
   "metadata": {},
   "outputs": [],
   "source": [
    "import warnings\n",
    "warnings.filterwarnings('ignore')"
   ]
  },
  {
   "cell_type": "code",
   "execution_count": 23,
   "metadata": {
    "colab": {},
    "colab_type": "code",
    "id": "W9B6xKGpIKSQ"
   },
   "outputs": [
    {
     "data": {
      "image/png": "[encoded data removed]",
      "text/plain": [
       "<Figure size 432x288 with 1 Axes>"
      ]
     },
     "metadata": {
      "needs_background": "light"
     },
     "output_type": "display_data"
    }
   ],
   "source": [
    "data['cost'].value_counts().plot('hist');"
   ]
  },
  {
   "cell_type": "code",
   "execution_count": 24,
   "metadata": {},
   "outputs": [
    {
     "data": {
      "image/png": "[encoded data removed]",
      "text/plain": [
       "<Figure size 432x288 with 1 Axes>"
      ]
     },
     "metadata": {
      "needs_background": "light"
     },
     "output_type": "display_data"
    }
   ],
   "source": [
    "data['minimum_nights'].value_counts().plot('hist');"
   ]
  },
  {
   "cell_type": "code",
   "execution_count": 25,
   "metadata": {},
   "outputs": [
    {
     "data": {
      "image/png": "[encoded data removed]",
      "text/plain": [
       "<Figure size 432x288 with 1 Axes>"
      ]
     },
     "metadata": {
      "needs_background": "light"
     },
     "output_type": "display_data"
    }
   ],
   "source": [
    "data['number_of_reviews'].value_counts().plot('hist');"
   ]
  },
  {
   "cell_type": "code",
   "execution_count": 26,
   "metadata": {},
   "outputs": [
    {
     "data": {
      "image/png": "[encoded data removed]",
      "text/plain": [
       "<Figure size 432x288 with 1 Axes>"
      ]
     },
     "metadata": {
      "needs_background": "light"
     },
     "output_type": "display_data"
    }
   ],
   "source": [
    "data['reviews_per_month'].value_counts().plot('hist');"
   ]
  },
  {
   "cell_type": "code",
   "execution_count": 35,
   "metadata": {},
   "outputs": [
    {
     "data": {
      "image/png": "[encoded data removed]",
      "text/plain": [
       "<Figure size 432x288 with 1 Axes>"
      ]
     },
     "metadata": {
      "needs_background": "light"
     },
     "output_type": "display_data"
    }
   ],
   "source": [
    "data['owned_hotels'].value_counts().plot('hist');"
   ]
  },
  {
   "cell_type": "markdown",
   "metadata": {},
   "source": [
    "#### Categorical Features"
   ]
  },
  {
   "cell_type": "code",
   "execution_count": 27,
   "metadata": {},
   "outputs": [
    {
     "data": {
      "text/html": [
       "<div>\n",
       "<style scoped>\n",
       "    .dataframe tbody tr th:only-of-type {\n",
       "        vertical-align: middle;\n",
       "    }\n",
       "\n",
       "    .dataframe tbody tr th {\n",
       "        vertical-align: top;\n",
       "    }\n",
       "\n",
       "    .dataframe thead th {\n",
       "        text-align: right;\n",
       "    }\n",
       "</style>\n",
       "<table border=\"1\" class=\"dataframe\">\n",
       "  <thead>\n",
       "    <tr style=\"text-align: right;\">\n",
       "      <th></th>\n",
       "      <th>id</th>\n",
       "      <th>region</th>\n",
       "      <th>latitude</th>\n",
       "      <th>longitude</th>\n",
       "      <th>accommodation_type</th>\n",
       "      <th>cost</th>\n",
       "      <th>minimum_nights</th>\n",
       "      <th>number_of_reviews</th>\n",
       "      <th>reviews_per_month</th>\n",
       "      <th>owner_id</th>\n",
       "      <th>owned_hotels</th>\n",
       "      <th>yearly_availability</th>\n",
       "    </tr>\n",
       "  </thead>\n",
       "  <tbody>\n",
       "    <tr>\n",
       "      <th>0</th>\n",
       "      <td>13232</td>\n",
       "      <td>Manhattan</td>\n",
       "      <td>40.71854</td>\n",
       "      <td>-74.00439</td>\n",
       "      <td>Entire home/apt</td>\n",
       "      <td>170</td>\n",
       "      <td>5</td>\n",
       "      <td>7</td>\n",
       "      <td>0.56</td>\n",
       "      <td>929983</td>\n",
       "      <td>1</td>\n",
       "      <td>0</td>\n",
       "    </tr>\n",
       "    <tr>\n",
       "      <th>1</th>\n",
       "      <td>246</td>\n",
       "      <td>Brooklyn</td>\n",
       "      <td>40.64446</td>\n",
       "      <td>-73.95030</td>\n",
       "      <td>Entire home/apt</td>\n",
       "      <td>65</td>\n",
       "      <td>3</td>\n",
       "      <td>238</td>\n",
       "      <td>2.30</td>\n",
       "      <td>281764</td>\n",
       "      <td>1</td>\n",
       "      <td>0</td>\n",
       "    </tr>\n",
       "    <tr>\n",
       "      <th>2</th>\n",
       "      <td>19091</td>\n",
       "      <td>Queens</td>\n",
       "      <td>40.78573</td>\n",
       "      <td>-73.81062</td>\n",
       "      <td>Private room</td>\n",
       "      <td>85</td>\n",
       "      <td>1</td>\n",
       "      <td>0</td>\n",
       "      <td>0.00</td>\n",
       "      <td>19923341</td>\n",
       "      <td>1</td>\n",
       "      <td>1</td>\n",
       "    </tr>\n",
       "    <tr>\n",
       "      <th>3</th>\n",
       "      <td>34305</td>\n",
       "      <td>Manhattan</td>\n",
       "      <td>40.73863</td>\n",
       "      <td>-73.98002</td>\n",
       "      <td>Private room</td>\n",
       "      <td>210</td>\n",
       "      <td>30</td>\n",
       "      <td>0</td>\n",
       "      <td>0.00</td>\n",
       "      <td>200380610</td>\n",
       "      <td>65</td>\n",
       "      <td>1</td>\n",
       "    </tr>\n",
       "    <tr>\n",
       "      <th>4</th>\n",
       "      <td>444</td>\n",
       "      <td>Manhattan</td>\n",
       "      <td>40.82426</td>\n",
       "      <td>-73.94630</td>\n",
       "      <td>Shared room</td>\n",
       "      <td>75</td>\n",
       "      <td>3</td>\n",
       "      <td>38</td>\n",
       "      <td>0.42</td>\n",
       "      <td>745069</td>\n",
       "      <td>3</td>\n",
       "      <td>1</td>\n",
       "    </tr>\n",
       "  </tbody>\n",
       "</table>\n",
       "</div>"
      ],
      "text/plain": [
       "      id     region  latitude  longitude accommodation_type  cost  \\\n",
       "0  13232  Manhattan  40.71854  -74.00439    Entire home/apt   170   \n",
       "1    246   Brooklyn  40.64446  -73.95030    Entire home/apt    65   \n",
       "2  19091     Queens  40.78573  -73.81062       Private room    85   \n",
       "3  34305  Manhattan  40.73863  -73.98002       Private room   210   \n",
       "4    444  Manhattan  40.82426  -73.94630        Shared room    75   \n",
       "\n",
       "   minimum_nights  number_of_reviews  reviews_per_month   owner_id  \\\n",
       "0               5                  7               0.56     929983   \n",
       "1               3                238               2.30     281764   \n",
       "2               1                  0               0.00   19923341   \n",
       "3              30                  0               0.00  200380610   \n",
       "4               3                 38               0.42     745069   \n",
       "\n",
       "   owned_hotels  yearly_availability  \n",
       "0             1                    0  \n",
       "1             1                    0  \n",
       "2             1                    1  \n",
       "3            65                    1  \n",
       "4             3                    1  "
      ]
     },
     "execution_count": 27,
     "metadata": {},
     "output_type": "execute_result"
    }
   ],
   "source": [
    "data.head()"
   ]
  },
  {
   "cell_type": "code",
   "execution_count": 33,
   "metadata": {},
   "outputs": [
    {
     "data": {
      "text/plain": [
       "<matplotlib.axes._subplots.AxesSubplot at 0x7f99f44c4fd0>"
      ]
     },
     "execution_count": 33,
     "metadata": {},
     "output_type": "execute_result"
    },
    {
     "data": {
      "image/png": "[encoded data removed]",
      "text/plain": [
       "<Figure size 432x288 with 1 Axes>"
      ]
     },
     "metadata": {
      "needs_background": "light"
     },
     "output_type": "display_data"
    }
   ],
   "source": [
    "data.groupby(['region', 'yearly_availability'])['yearly_availability'].count().unstack('yearly_availability').plot(kind='bar', stacked=True)"
   ]
  },
  {
   "cell_type": "code",
   "execution_count": 34,
   "metadata": {},
   "outputs": [
    {
     "data": {
      "text/plain": [
       "<matplotlib.axes._subplots.AxesSubplot at 0x7f99f4430050>"
      ]
     },
     "execution_count": 34,
     "metadata": {},
     "output_type": "execute_result"
    },
    {
     "data": {
      "image/png": "[encoded data removed]",
      "text/plain": [
       "<Figure size 432x288 with 1 Axes>"
      ]
     },
     "metadata": {
      "needs_background": "light"
     },
     "output_type": "display_data"
    }
   ],
   "source": [
    "data.groupby(['accommodation_type', 'yearly_availability'])['yearly_availability'].count().unstack('yearly_availability').plot(kind='bar', stacked=True)"
   ]
  },
  {
   "cell_type": "markdown",
   "metadata": {},
   "source": [
    "## Outliers"
   ]
  },
  {
   "cell_type": "code",
   "execution_count": 36,
   "metadata": {},
   "outputs": [
    {
     "data": {
      "text/plain": [
       "id                       int64\n",
       "region                  object\n",
       "latitude               float64\n",
       "longitude              float64\n",
       "accommodation_type      object\n",
       "cost                     int64\n",
       "minimum_nights           int64\n",
       "number_of_reviews        int64\n",
       "reviews_per_month      float64\n",
       "owner_id                 int64\n",
       "owned_hotels             int64\n",
       "yearly_availability      int64\n",
       "dtype: object"
      ]
     },
     "execution_count": 36,
     "metadata": {},
     "output_type": "execute_result"
    }
   ],
   "source": [
    "data.dtypes"
   ]
  },
  {
   "cell_type": "code",
   "execution_count": 45,
   "metadata": {},
   "outputs": [
    {
     "data": {
      "image/png": "[encoded data removed]",
      "text/plain": [
       "<Figure size 1440x1080 with 10 Axes>"
      ]
     },
     "metadata": {
      "needs_background": "light"
     },
     "output_type": "display_data"
    }
   ],
   "source": [
    "#filtering numerical columns\n",
    "num_col = list(data.select_dtypes(np.number).columns)\n",
    "\n",
    "plt.figure(figsize=(20,15))\n",
    "for i, col in enumerate(num_col):\n",
    "    ax = plt.subplot(5,2, i+1)\n",
    "    plt.boxplot(data[col])\n",
    "    plt.title(col)"
   ]
  },
  {
   "cell_type": "markdown",
   "metadata": {},
   "source": [
    "**Observations:**\n",
    "\n",
    "We observe a lot of outliers for cost, minimum nights, number of  reviews, reviews per month and owned hotels. From our Univariate plotting, we can see that they seem to follow a pareto distribution. \n",
    "    "
   ]
  },
  {
   "cell_type": "code",
   "execution_count": 145,
   "metadata": {},
   "outputs": [],
   "source": [
    "data1 = data #checkpoint1"
   ]
  },
  {
   "cell_type": "markdown",
   "metadata": {},
   "source": [
    "## Feature Engineering"
   ]
  },
  {
   "cell_type": "code",
   "execution_count": 47,
   "metadata": {},
   "outputs": [
    {
     "data": {
      "text/plain": [
       "id                       int64\n",
       "region                  object\n",
       "latitude               float64\n",
       "longitude              float64\n",
       "accommodation_type      object\n",
       "cost                     int64\n",
       "minimum_nights           int64\n",
       "number_of_reviews        int64\n",
       "reviews_per_month      float64\n",
       "owner_id                 int64\n",
       "owned_hotels             int64\n",
       "yearly_availability      int64\n",
       "dtype: object"
      ]
     },
     "execution_count": 47,
     "metadata": {},
     "output_type": "execute_result"
    }
   ],
   "source": [
    "data.dtypes"
   ]
  },
  {
   "cell_type": "markdown",
   "metadata": {},
   "source": [
    "Based on the distribution we observed during plotting and to minimize the impact of Outliers, we apply logarithmic transformation to the columns."
   ]
  },
  {
   "cell_type": "code",
   "execution_count": 146,
   "metadata": {},
   "outputs": [],
   "source": [
    "#log transforming the columns to minimize the impact of outliers\n",
    "col_out = ['cost', 'minimum_nights', 'number_of_reviews', 'reviews_per_month', 'owned_hotels']\n",
    "\n",
    "for col in col_out:\n",
    "    data[col] = np.log(data[col] + 1) #adding 1 to avoid getting log 0"
   ]
  },
  {
   "cell_type": "code",
   "execution_count": 147,
   "metadata": {},
   "outputs": [
    {
     "data": {
      "image/png": "[encoded data removed]",
      "text/plain": [
       "<Figure size 1440x1080 with 10 Axes>"
      ]
     },
     "metadata": {
      "needs_background": "light"
     },
     "output_type": "display_data"
    }
   ],
   "source": [
    "plt.figure(figsize=(20,15))\n",
    "for i, col in enumerate(num_col):\n",
    "    ax = plt.subplot(5,2, i+1)\n",
    "    plt.boxplot(data[col])\n",
    "    plt.title(col)"
   ]
  },
  {
   "cell_type": "code",
   "execution_count": 148,
   "metadata": {},
   "outputs": [],
   "source": [
    "#Dropping columns that don't affect the target variable\n",
    "data.drop(['id', 'latitude', 'longitude', 'owner_id'], axis=1, inplace=True)"
   ]
  },
  {
   "cell_type": "markdown",
   "metadata": {},
   "source": [
    "**Visualizing the correlation between Features**"
   ]
  },
  {
   "cell_type": "code",
   "execution_count": 149,
   "metadata": {},
   "outputs": [
    {
     "data": {
      "image/png": "[encoded data removed]",
      "text/plain": [
       "<Figure size 432x288 with 2 Axes>"
      ]
     },
     "metadata": {
      "needs_background": "light"
     },
     "output_type": "display_data"
    }
   ],
   "source": [
    "import seaborn as sns\n",
    "sns.heatmap(data.corr(), annot=True)\n",
    "plt.title('Correlation between features');"
   ]
  },
  {
   "cell_type": "markdown",
   "metadata": {},
   "source": [
    "**Observations:**\n",
    "\n",
    "We can see high correlation between number of reviews and reviews per month, which is expected. In order to avoid multicollinearity, we can use one of the two features."
   ]
  },
  {
   "cell_type": "code",
   "execution_count": 69,
   "metadata": {},
   "outputs": [
    {
     "data": {
      "text/html": [
       "<div>\n",
       "<style scoped>\n",
       "    .dataframe tbody tr th:only-of-type {\n",
       "        vertical-align: middle;\n",
       "    }\n",
       "\n",
       "    .dataframe tbody tr th {\n",
       "        vertical-align: top;\n",
       "    }\n",
       "\n",
       "    .dataframe thead th {\n",
       "        text-align: right;\n",
       "    }\n",
       "</style>\n",
       "<table border=\"1\" class=\"dataframe\">\n",
       "  <thead>\n",
       "    <tr style=\"text-align: right;\">\n",
       "      <th></th>\n",
       "      <th>cost</th>\n",
       "      <th>minimum_nights</th>\n",
       "      <th>number_of_reviews</th>\n",
       "      <th>reviews_per_month</th>\n",
       "      <th>owned_hotels</th>\n",
       "    </tr>\n",
       "  </thead>\n",
       "  <tbody>\n",
       "    <tr>\n",
       "      <th>yearly_availability</th>\n",
       "      <td>0.145625</td>\n",
       "      <td>0.181542</td>\n",
       "      <td>-0.332121</td>\n",
       "      <td>-0.391529</td>\n",
       "      <td>0.41346</td>\n",
       "    </tr>\n",
       "  </tbody>\n",
       "</table>\n",
       "</div>"
      ],
      "text/plain": [
       "                         cost  minimum_nights  number_of_reviews  \\\n",
       "yearly_availability  0.145625        0.181542          -0.332121   \n",
       "\n",
       "                     reviews_per_month  owned_hotels  \n",
       "yearly_availability          -0.391529       0.41346  "
      ]
     },
     "execution_count": 69,
     "metadata": {},
     "output_type": "execute_result"
    }
   ],
   "source": [
    "df_corr = data.corr()\n",
    "df_corr.iloc[5:6, :-1]"
   ]
  },
  {
   "cell_type": "markdown",
   "metadata": {},
   "source": [
    "Since reviews per month has a higher correlation with the target variable, let's drop number of reviews."
   ]
  },
  {
   "cell_type": "code",
   "execution_count": 150,
   "metadata": {},
   "outputs": [],
   "source": [
    "data.drop('number_of_reviews', axis=1, inplace=True)"
   ]
  },
  {
   "cell_type": "code",
   "execution_count": 151,
   "metadata": {},
   "outputs": [],
   "source": [
    "data2 = data #checkpoint2"
   ]
  },
  {
   "cell_type": "markdown",
   "metadata": {},
   "source": [
    "**Converting Categorical variables to numerical**"
   ]
  },
  {
   "cell_type": "code",
   "execution_count": 74,
   "metadata": {},
   "outputs": [
    {
     "data": {
      "text/plain": [
       "region                  object\n",
       "accommodation_type      object\n",
       "cost                   float64\n",
       "minimum_nights         float64\n",
       "reviews_per_month      float64\n",
       "owned_hotels           float64\n",
       "yearly_availability      int64\n",
       "dtype: object"
      ]
     },
     "execution_count": 74,
     "metadata": {},
     "output_type": "execute_result"
    }
   ],
   "source": [
    "data.dtypes"
   ]
  },
  {
   "cell_type": "code",
   "execution_count": 152,
   "metadata": {},
   "outputs": [],
   "source": [
    "data = pd.get_dummies(data, columns=['region', 'accommodation_type'])"
   ]
  },
  {
   "cell_type": "code",
   "execution_count": 232,
   "metadata": {},
   "outputs": [
    {
     "data": {
      "text/html": [
       "<div>\n",
       "<style scoped>\n",
       "    .dataframe tbody tr th:only-of-type {\n",
       "        vertical-align: middle;\n",
       "    }\n",
       "\n",
       "    .dataframe tbody tr th {\n",
       "        vertical-align: top;\n",
       "    }\n",
       "\n",
       "    .dataframe thead th {\n",
       "        text-align: right;\n",
       "    }\n",
       "</style>\n",
       "<table border=\"1\" class=\"dataframe\">\n",
       "  <thead>\n",
       "    <tr style=\"text-align: right;\">\n",
       "      <th></th>\n",
       "      <th>cost</th>\n",
       "      <th>minimum_nights</th>\n",
       "      <th>reviews_per_month</th>\n",
       "      <th>owned_hotels</th>\n",
       "      <th>yearly_availability</th>\n",
       "      <th>region_Bronx</th>\n",
       "      <th>region_Brooklyn</th>\n",
       "      <th>region_Manhattan</th>\n",
       "      <th>region_Queens</th>\n",
       "      <th>region_Staten Island</th>\n",
       "      <th>accommodation_type_Entire home/apt</th>\n",
       "      <th>accommodation_type_Private room</th>\n",
       "      <th>accommodation_type_Shared room</th>\n",
       "    </tr>\n",
       "  </thead>\n",
       "  <tbody>\n",
       "    <tr>\n",
       "      <th>0</th>\n",
       "      <td>5.141664</td>\n",
       "      <td>1.791759</td>\n",
       "      <td>0.444686</td>\n",
       "      <td>0.693147</td>\n",
       "      <td>0</td>\n",
       "      <td>0</td>\n",
       "      <td>0</td>\n",
       "      <td>1</td>\n",
       "      <td>0</td>\n",
       "      <td>0</td>\n",
       "      <td>1</td>\n",
       "      <td>0</td>\n",
       "      <td>0</td>\n",
       "    </tr>\n",
       "    <tr>\n",
       "      <th>1</th>\n",
       "      <td>4.189655</td>\n",
       "      <td>1.386294</td>\n",
       "      <td>1.193922</td>\n",
       "      <td>0.693147</td>\n",
       "      <td>0</td>\n",
       "      <td>0</td>\n",
       "      <td>1</td>\n",
       "      <td>0</td>\n",
       "      <td>0</td>\n",
       "      <td>0</td>\n",
       "      <td>1</td>\n",
       "      <td>0</td>\n",
       "      <td>0</td>\n",
       "    </tr>\n",
       "    <tr>\n",
       "      <th>2</th>\n",
       "      <td>4.454347</td>\n",
       "      <td>0.693147</td>\n",
       "      <td>0.000000</td>\n",
       "      <td>0.693147</td>\n",
       "      <td>1</td>\n",
       "      <td>0</td>\n",
       "      <td>0</td>\n",
       "      <td>0</td>\n",
       "      <td>1</td>\n",
       "      <td>0</td>\n",
       "      <td>0</td>\n",
       "      <td>1</td>\n",
       "      <td>0</td>\n",
       "    </tr>\n",
       "    <tr>\n",
       "      <th>3</th>\n",
       "      <td>5.351858</td>\n",
       "      <td>3.433987</td>\n",
       "      <td>0.000000</td>\n",
       "      <td>4.189655</td>\n",
       "      <td>1</td>\n",
       "      <td>0</td>\n",
       "      <td>0</td>\n",
       "      <td>1</td>\n",
       "      <td>0</td>\n",
       "      <td>0</td>\n",
       "      <td>0</td>\n",
       "      <td>1</td>\n",
       "      <td>0</td>\n",
       "    </tr>\n",
       "    <tr>\n",
       "      <th>4</th>\n",
       "      <td>4.330733</td>\n",
       "      <td>1.386294</td>\n",
       "      <td>0.350657</td>\n",
       "      <td>1.386294</td>\n",
       "      <td>1</td>\n",
       "      <td>0</td>\n",
       "      <td>0</td>\n",
       "      <td>1</td>\n",
       "      <td>0</td>\n",
       "      <td>0</td>\n",
       "      <td>0</td>\n",
       "      <td>0</td>\n",
       "      <td>1</td>\n",
       "    </tr>\n",
       "  </tbody>\n",
       "</table>\n",
       "</div>"
      ],
      "text/plain": [
       "       cost  minimum_nights  reviews_per_month  owned_hotels  \\\n",
       "0  5.141664        1.791759           0.444686      0.693147   \n",
       "1  4.189655        1.386294           1.193922      0.693147   \n",
       "2  4.454347        0.693147           0.000000      0.693147   \n",
       "3  5.351858        3.433987           0.000000      4.189655   \n",
       "4  4.330733        1.386294           0.350657      1.386294   \n",
       "\n",
       "   yearly_availability  region_Bronx  region_Brooklyn  region_Manhattan  \\\n",
       "0                    0             0                0                 1   \n",
       "1                    0             0                1                 0   \n",
       "2                    1             0                0                 0   \n",
       "3                    1             0                0                 1   \n",
       "4                    1             0                0                 1   \n",
       "\n",
       "   region_Queens  region_Staten Island  accommodation_type_Entire home/apt  \\\n",
       "0              0                     0                                   1   \n",
       "1              0                     0                                   1   \n",
       "2              1                     0                                   0   \n",
       "3              0                     0                                   0   \n",
       "4              0                     0                                   0   \n",
       "\n",
       "   accommodation_type_Private room  accommodation_type_Shared room  \n",
       "0                                0                               0  \n",
       "1                                0                               0  \n",
       "2                                1                               0  \n",
       "3                                1                               0  \n",
       "4                                0                               1  "
      ]
     },
     "execution_count": 232,
     "metadata": {},
     "output_type": "execute_result"
    }
   ],
   "source": [
    "data.head()"
   ]
  },
  {
   "cell_type": "markdown",
   "metadata": {},
   "source": [
    "We have one column created for each of the categories in region and acommodation type. Since one of the columns can be derived from the others, in order to avoid the dummy variable trap, we'll drop a column from region and accomodation type each of our choice."
   ]
  },
  {
   "cell_type": "code",
   "execution_count": 233,
   "metadata": {},
   "outputs": [],
   "source": [
    "data = data.drop(['region_Bronx', 'accommodation_type_Entire home/apt'], axis=1)"
   ]
  },
  {
   "cell_type": "code",
   "execution_count": 234,
   "metadata": {},
   "outputs": [
    {
     "data": {
      "text/plain": [
       "(2870, 11)"
      ]
     },
     "execution_count": 234,
     "metadata": {},
     "output_type": "execute_result"
    }
   ],
   "source": [
    "data.shape"
   ]
  },
  {
   "cell_type": "markdown",
   "metadata": {
    "colab_type": "text",
    "id": "ymsdDaIPIKSX"
   },
   "source": [
    "## Visualization, Modeling, Machine Learning\n",
    "\n",
    "Build a model that categorizes hotels on the basis of their yearly availability.  Identify how different features influence the decision. Please explain the findings effectively to technical and non-technical audiences using comments and visualizations, if appropriate.\n",
    "- **Build an optimized model that effectively solves the business problem.**\n",
    "- **The model will be evaluated on the basis of Accuracy.**\n",
    "- **Read the test.csv file and prepare features for testing.**"
   ]
  },
  {
   "cell_type": "code",
   "execution_count": 235,
   "metadata": {},
   "outputs": [],
   "source": [
    "from sklearn.model_selection import train_test_split\n",
    "from sklearn.metrics import accuracy_score"
   ]
  },
  {
   "cell_type": "code",
   "execution_count": 236,
   "metadata": {},
   "outputs": [],
   "source": [
    "y = data['yearly_availability']\n",
    "X = data.drop('yearly_availability', axis=1)\n",
    "\n",
    "#keeping 20% of the data for evaluation\n",
    "X_train, X_test, y_train, y_test = train_test_split(X, y, train_size=0.8)"
   ]
  },
  {
   "cell_type": "code",
   "execution_count": 237,
   "metadata": {},
   "outputs": [
    {
     "name": "stdout",
     "output_type": "stream",
     "text": [
      "(2296, 10)\n",
      "(574, 10)\n"
     ]
    }
   ],
   "source": [
    "print(X_train.shape)\n",
    "print(X_test.shape)"
   ]
  },
  {
   "cell_type": "markdown",
   "metadata": {},
   "source": [
    "#### Applying Classification Models"
   ]
  },
  {
   "cell_type": "code",
   "execution_count": 238,
   "metadata": {},
   "outputs": [],
   "source": [
    "#Importing all the models\n",
    "from sklearn.linear_model import LogisticRegression\n",
    "from sklearn.neighbors import KNeighborsClassifier\n",
    "from sklearn import svm\n",
    "from sklearn.ensemble import RandomForestClassifier"
   ]
  },
  {
   "cell_type": "code",
   "execution_count": 239,
   "metadata": {},
   "outputs": [
    {
     "name": "stdout",
     "output_type": "stream",
     "text": [
      "Accuracy with Logistic Regression:  0.8989547038327527\n"
     ]
    }
   ],
   "source": [
    "lr = LogisticRegression()\n",
    "lr.fit(X_train, y_train)\n",
    "y_pred = lr.predict(X_test)\n",
    "lr_acc = accuracy_score(y_test, y_pred)\n",
    "print(\"Accuracy with Logistic Regression: \", lr_acc)"
   ]
  },
  {
   "cell_type": "code",
   "execution_count": 240,
   "metadata": {},
   "outputs": [],
   "source": [
    "df_metric = pd.DataFrame(columns=['Accuracy'], index=['Logistic Regression', 'SVM', 'KNN', 'Random Forest'])"
   ]
  },
  {
   "cell_type": "code",
   "execution_count": 250,
   "metadata": {},
   "outputs": [],
   "source": [
    "df_metric.loc['Logistic Regression'] = lr_acc"
   ]
  },
  {
   "cell_type": "code",
   "execution_count": 242,
   "metadata": {},
   "outputs": [],
   "source": [
    "knn_acc = {}\n",
    "for i in range(1,30): \n",
    "    knn = KNeighborsClassifier(n_neighbors=i)\n",
    "    knn.fit(X_train, y_train)\n",
    "    y_pred = knn.predict(X_test)\n",
    "    knn_acc[i] = accuracy_score(y_test, y_pred)"
   ]
  },
  {
   "cell_type": "code",
   "execution_count": 118,
   "metadata": {},
   "outputs": [
    {
     "data": {
      "image/png": "[encoded data removed]",
      "text/plain": [
       "<Figure size 432x288 with 1 Axes>"
      ]
     },
     "metadata": {
      "needs_background": "light"
     },
     "output_type": "display_data"
    }
   ],
   "source": [
    "xi = list(knn_acc.keys())\n",
    "yi = list(knn_acc.values())   \n",
    "plt.plot(xi, yi);"
   ]
  },
  {
   "cell_type": "code",
   "execution_count": 243,
   "metadata": {},
   "outputs": [
    {
     "name": "stdout",
     "output_type": "stream",
     "text": [
      "Maximum accuracy of 0.9337979094076655 occurs at 7NN\n"
     ]
    }
   ],
   "source": [
    "print(f'Maximum accuracy of {max(knn_acc.values())} occurs at {max(knn_acc, key=knn_acc.get)}NN')"
   ]
  },
  {
   "cell_type": "code",
   "execution_count": 244,
   "metadata": {},
   "outputs": [],
   "source": [
    "df_metric.loc['KNN'] = str(max(knn_acc.values())) + ',' + str(max(knn_acc, key=knn_acc.get))"
   ]
  },
  {
   "cell_type": "markdown",
   "metadata": {},
   "source": [
    "**SVM**"
   ]
  },
  {
   "cell_type": "code",
   "execution_count": 245,
   "metadata": {},
   "outputs": [
    {
     "name": "stdout",
     "output_type": "stream",
     "text": [
      "Accuracy with Support Vector Machines:  0.9181184668989547\n"
     ]
    }
   ],
   "source": [
    "svc = svm.SVC()\n",
    "svc.fit(X_train, y_train)\n",
    "y_pred = svc.predict(X_test)\n",
    "svc_acc = accuracy_score(y_test, y_pred)\n",
    "print(\"Accuracy with Support Vector Machines: \", svc_acc)"
   ]
  },
  {
   "cell_type": "code",
   "execution_count": 246,
   "metadata": {},
   "outputs": [],
   "source": [
    "df_metric.loc['SVM'] = svc_acc"
   ]
  },
  {
   "cell_type": "markdown",
   "metadata": {},
   "source": [
    "**Random Forest**"
   ]
  },
  {
   "cell_type": "code",
   "execution_count": 247,
   "metadata": {},
   "outputs": [
    {
     "name": "stdout",
     "output_type": "stream",
     "text": [
      "Accuracy with Random Forest:  0.9163763066202091\n"
     ]
    }
   ],
   "source": [
    "rf = RandomForestClassifier(random_state=20)\n",
    "rf.fit(X_train, y_train)\n",
    "y_pred = rf.predict(X_test)\n",
    "rf_acc = accuracy_score(y_test, y_pred)\n",
    "print(\"Accuracy with Random Forest: \", rf_acc)"
   ]
  },
  {
   "cell_type": "code",
   "execution_count": 248,
   "metadata": {},
   "outputs": [],
   "source": [
    "df_metric.loc['Random Forest'] = rf_acc"
   ]
  },
  {
   "cell_type": "code",
   "execution_count": 251,
   "metadata": {},
   "outputs": [
    {
     "data": {
      "text/html": [
       "<div>\n",
       "<style scoped>\n",
       "    .dataframe tbody tr th:only-of-type {\n",
       "        vertical-align: middle;\n",
       "    }\n",
       "\n",
       "    .dataframe tbody tr th {\n",
       "        vertical-align: top;\n",
       "    }\n",
       "\n",
       "    .dataframe thead th {\n",
       "        text-align: right;\n",
       "    }\n",
       "</style>\n",
       "<table border=\"1\" class=\"dataframe\">\n",
       "  <thead>\n",
       "    <tr style=\"text-align: right;\">\n",
       "      <th></th>\n",
       "      <th>Accuracy</th>\n",
       "    </tr>\n",
       "  </thead>\n",
       "  <tbody>\n",
       "    <tr>\n",
       "      <th>Logistic Regression</th>\n",
       "      <td>0.898955</td>\n",
       "    </tr>\n",
       "    <tr>\n",
       "      <th>SVM</th>\n",
       "      <td>0.918118</td>\n",
       "    </tr>\n",
       "    <tr>\n",
       "      <th>KNN</th>\n",
       "      <td>0.9337979094076655,7</td>\n",
       "    </tr>\n",
       "    <tr>\n",
       "      <th>Random Forest</th>\n",
       "      <td>0.916376</td>\n",
       "    </tr>\n",
       "  </tbody>\n",
       "</table>\n",
       "</div>"
      ],
      "text/plain": [
       "                                 Accuracy\n",
       "Logistic Regression              0.898955\n",
       "SVM                              0.918118\n",
       "KNN                  0.9337979094076655,7\n",
       "Random Forest                    0.916376"
      ]
     },
     "execution_count": 251,
     "metadata": {},
     "output_type": "execute_result"
    }
   ],
   "source": [
    "#Performances of various Classifiers\n",
    "df_metric"
   ]
  },
  {
   "cell_type": "markdown",
   "metadata": {},
   "source": [
    "Our best performing model is KNN with an Accuracy of 93.37% when K=7."
   ]
  },
  {
   "cell_type": "markdown",
   "metadata": {},
   "source": [
    "**Applying the same transformations to Test Data**"
   ]
  },
  {
   "cell_type": "code",
   "execution_count": 217,
   "metadata": {
    "colab": {},
    "colab_type": "code",
    "id": "Hsxh3SMgIKSY",
    "outputId": "d98d0f00-f33f-407b-df59-a9915bb03fa1"
   },
   "outputs": [
    {
     "data": {
      "text/html": [
       "<div>\n",
       "<style scoped>\n",
       "    .dataframe tbody tr th:only-of-type {\n",
       "        vertical-align: middle;\n",
       "    }\n",
       "\n",
       "    .dataframe tbody tr th {\n",
       "        vertical-align: top;\n",
       "    }\n",
       "\n",
       "    .dataframe thead th {\n",
       "        text-align: right;\n",
       "    }\n",
       "</style>\n",
       "<table border=\"1\" class=\"dataframe\">\n",
       "  <thead>\n",
       "    <tr style=\"text-align: right;\">\n",
       "      <th></th>\n",
       "      <th>id</th>\n",
       "      <th>region</th>\n",
       "      <th>latitude</th>\n",
       "      <th>longitude</th>\n",
       "      <th>accommodation_type</th>\n",
       "      <th>cost</th>\n",
       "      <th>minimum_nights</th>\n",
       "      <th>number_of_reviews</th>\n",
       "      <th>reviews_per_month</th>\n",
       "      <th>owner_id</th>\n",
       "      <th>owned_hotels</th>\n",
       "    </tr>\n",
       "  </thead>\n",
       "  <tbody>\n",
       "    <tr>\n",
       "      <th>0</th>\n",
       "      <td>19215</td>\n",
       "      <td>Brooklyn</td>\n",
       "      <td>40.70912</td>\n",
       "      <td>-73.94513</td>\n",
       "      <td>Shared room</td>\n",
       "      <td>135</td>\n",
       "      <td>2</td>\n",
       "      <td>22</td>\n",
       "      <td>0.66</td>\n",
       "      <td>4360212</td>\n",
       "      <td>1</td>\n",
       "    </tr>\n",
       "    <tr>\n",
       "      <th>1</th>\n",
       "      <td>36301</td>\n",
       "      <td>Brooklyn</td>\n",
       "      <td>40.57646</td>\n",
       "      <td>-73.96641</td>\n",
       "      <td>Entire home/apt</td>\n",
       "      <td>69</td>\n",
       "      <td>2</td>\n",
       "      <td>8</td>\n",
       "      <td>0.90</td>\n",
       "      <td>181356989</td>\n",
       "      <td>2</td>\n",
       "    </tr>\n",
       "    <tr>\n",
       "      <th>2</th>\n",
       "      <td>40566</td>\n",
       "      <td>Manhattan</td>\n",
       "      <td>40.76616</td>\n",
       "      <td>-73.98228</td>\n",
       "      <td>Private room</td>\n",
       "      <td>225</td>\n",
       "      <td>30</td>\n",
       "      <td>0</td>\n",
       "      <td>NaN</td>\n",
       "      <td>13773574</td>\n",
       "      <td>12</td>\n",
       "    </tr>\n",
       "    <tr>\n",
       "      <th>3</th>\n",
       "      <td>33694</td>\n",
       "      <td>Manhattan</td>\n",
       "      <td>40.77668</td>\n",
       "      <td>-73.94587</td>\n",
       "      <td>Shared room</td>\n",
       "      <td>125</td>\n",
       "      <td>30</td>\n",
       "      <td>9</td>\n",
       "      <td>0.82</td>\n",
       "      <td>6788748</td>\n",
       "      <td>1</td>\n",
       "    </tr>\n",
       "    <tr>\n",
       "      <th>4</th>\n",
       "      <td>28873</td>\n",
       "      <td>Manhattan</td>\n",
       "      <td>40.80279</td>\n",
       "      <td>-73.94450</td>\n",
       "      <td>Entire home/apt</td>\n",
       "      <td>43</td>\n",
       "      <td>1</td>\n",
       "      <td>13</td>\n",
       "      <td>0.72</td>\n",
       "      <td>105061915</td>\n",
       "      <td>2</td>\n",
       "    </tr>\n",
       "  </tbody>\n",
       "</table>\n",
       "</div>"
      ],
      "text/plain": [
       "      id     region  latitude  longitude accommodation_type  cost  \\\n",
       "0  19215   Brooklyn  40.70912  -73.94513        Shared room   135   \n",
       "1  36301   Brooklyn  40.57646  -73.96641    Entire home/apt    69   \n",
       "2  40566  Manhattan  40.76616  -73.98228       Private room   225   \n",
       "3  33694  Manhattan  40.77668  -73.94587        Shared room   125   \n",
       "4  28873  Manhattan  40.80279  -73.94450    Entire home/apt    43   \n",
       "\n",
       "   minimum_nights  number_of_reviews  reviews_per_month   owner_id  \\\n",
       "0               2                 22               0.66    4360212   \n",
       "1               2                  8               0.90  181356989   \n",
       "2              30                  0                NaN   13773574   \n",
       "3              30                  9               0.82    6788748   \n",
       "4               1                 13               0.72  105061915   \n",
       "\n",
       "   owned_hotels  \n",
       "0             1  \n",
       "1             2  \n",
       "2            12  \n",
       "3             1  \n",
       "4             2  "
      ]
     },
     "execution_count": 217,
     "metadata": {},
     "output_type": "execute_result"
    }
   ],
   "source": [
    "#Loading Test data\n",
    "test_data=pd.read_csv('test.csv')\n",
    "test_data.head()"
   ]
  },
  {
   "cell_type": "code",
   "execution_count": 218,
   "metadata": {},
   "outputs": [
    {
     "data": {
      "text/plain": [
       "id                      0\n",
       "region                  0\n",
       "latitude                0\n",
       "longitude               0\n",
       "accommodation_type      0\n",
       "cost                    0\n",
       "minimum_nights          0\n",
       "number_of_reviews       0\n",
       "reviews_per_month     173\n",
       "owner_id                0\n",
       "owned_hotels            0\n",
       "dtype: int64"
      ]
     },
     "execution_count": 218,
     "metadata": {},
     "output_type": "execute_result"
    }
   ],
   "source": [
    "#checking for null values\n",
    "test_data.isna().sum()"
   ]
  },
  {
   "cell_type": "code",
   "execution_count": 219,
   "metadata": {},
   "outputs": [],
   "source": [
    "test_data['reviews_per_month'].fillna(0, inplace=True)"
   ]
  },
  {
   "cell_type": "code",
   "execution_count": 221,
   "metadata": {
    "colab": {},
    "colab_type": "code",
    "id": "73vBzp7lIKSf"
   },
   "outputs": [],
   "source": [
    "#log transforming the columns to minimize the impact of outliers\n",
    "col_out = ['cost', 'minimum_nights', 'number_of_reviews', 'reviews_per_month', 'owned_hotels']\n",
    "\n",
    "for col in col_out:\n",
    "    test_data[col] = np.log(test_data[col] + 1) #adding 1 to avoid getting log 0"
   ]
  },
  {
   "cell_type": "code",
   "execution_count": 223,
   "metadata": {
    "colab": {},
    "colab_type": "code",
    "id": "1XiIoLYLIKSj"
   },
   "outputs": [],
   "source": [
    "#Dropping columns that don't affect the target variable\n",
    "test_data.drop(['id', 'latitude', 'longitude', 'owner_id'], axis=1, inplace=True)"
   ]
  },
  {
   "cell_type": "code",
   "execution_count": 225,
   "metadata": {
    "colab": {},
    "colab_type": "code",
    "id": "7tBCHjd3IKSp"
   },
   "outputs": [],
   "source": [
    "#Dropping columns that are highly correlated between each other to avoid multicollinearity\n",
    "test_data.drop('number_of_reviews', axis=1, inplace=True)"
   ]
  },
  {
   "cell_type": "code",
   "execution_count": 227,
   "metadata": {},
   "outputs": [],
   "source": [
    "#One Hot encoding categorical columns\n",
    "test_data = pd.get_dummies(test_data, columns=['region', 'accommodation_type'])"
   ]
  },
  {
   "cell_type": "code",
   "execution_count": 229,
   "metadata": {},
   "outputs": [],
   "source": [
    "#Dropping one column from each set to avoid dummy variable trap\n",
    "test_data = test_data.drop(['region_Bronx', 'accommodation_type_Entire home/apt'], axis=1)"
   ]
  },
  {
   "cell_type": "markdown",
   "metadata": {
    "colab_type": "text",
    "id": "MK_rdXETIKS4"
   },
   "source": [
    "\n",
    "\n",
    "**Highlight the most important features of the model for management.**\n",
    "\n",
    "> #### Task:\n",
    "- **Visualize the top 20 features and their feature importance.**\n"
   ]
  },
  {
   "cell_type": "code",
   "execution_count": 164,
   "metadata": {},
   "outputs": [],
   "source": [
    "import numpy as np"
   ]
  },
  {
   "cell_type": "code",
   "execution_count": 172,
   "metadata": {
    "colab": {},
    "colab_type": "code",
    "id": "HHFM3XPMIKS6"
   },
   "outputs": [
    {
     "data": {
      "image/png": "[encoded data removed]",
      "text/plain": [
       "<Figure size 432x288 with 1 Axes>"
      ]
     },
     "metadata": {
      "needs_background": "light"
     },
     "output_type": "display_data"
    }
   ],
   "source": [
    "#Visualizing the top features with Random Forest\n",
    "\n",
    "imp = rf.feature_importances_\n",
    "s_feat = np.argsort(imp)\n",
    "xi = range(len(s_feat))\n",
    "yi = imp[s_feat]\n",
    "plt.barh(xi, yi)\n",
    "plt.yticks(xi, [X_train.columns[i] for i in s_feat]);"
   ]
  },
  {
   "cell_type": "markdown",
   "metadata": {
    "colab": {},
    "colab_type": "code",
    "id": "jabG4TJwIKS_"
   },
   "source": [
    "Ignoring the encoded categories, we can see that owned hotels, reviews per month and the cost are the top three features."
   ]
  },
  {
   "cell_type": "markdown",
   "metadata": {
    "colab_type": "text",
    "id": "UFogmgYZIKTE"
   },
   "source": [
    "> #### Task:\n",
    "- **Submit the predictions on the test dataset using your optimized model** <br/>\n",
    "    For each record in the test set (`test.csv`), predict the value of the `yearly_availability` variable. Submit a CSV file with a header row and one row per test entry.\n",
    "\n",
    "The file (`submissions.csv`) should have exactly 2 columns:\n",
    "   - **id**\n",
    "   - **yearly_availability**"
   ]
  },
  {
   "cell_type": "markdown",
   "metadata": {},
   "source": [
    "**Using our best performing model to predict** "
   ]
  },
  {
   "cell_type": "code",
   "execution_count": 255,
   "metadata": {},
   "outputs": [
    {
     "data": {
      "text/plain": [
       "KNeighborsClassifier(algorithm='auto', leaf_size=30, metric='minkowski',\n",
       "                     metric_params=None, n_jobs=None, n_neighbors=19, p=2,\n",
       "                     weights='uniform')"
      ]
     },
     "execution_count": 255,
     "metadata": {},
     "output_type": "execute_result"
    }
   ],
   "source": [
    "knn_19 = KNeighborsClassifier(n_neighbors=19)\n",
    "knn_19.fit(X_train, y_train)"
   ]
  },
  {
   "cell_type": "code",
   "execution_count": 256,
   "metadata": {
    "colab": {},
    "colab_type": "code",
    "id": "7xgNg25MIKTG"
   },
   "outputs": [],
   "source": [
    "y_pred1 = knn_19.predict(test_data)"
   ]
  },
  {
   "cell_type": "code",
   "execution_count": 257,
   "metadata": {},
   "outputs": [],
   "source": [
    "test1 = pd.read_csv('test.csv')"
   ]
  },
  {
   "cell_type": "code",
   "execution_count": 262,
   "metadata": {},
   "outputs": [],
   "source": [
    "test_data['id'] = test1['id']"
   ]
  },
  {
   "cell_type": "code",
   "execution_count": 270,
   "metadata": {
    "colab": {},
    "colab_type": "code",
    "id": "OaxN7BjwIKTL"
   },
   "outputs": [],
   "source": [
    "test_data['yearly_availability'] = y_pred1\n",
    "submission_df = test_data[['id', 'yearly_availability']]"
   ]
  },
  {
   "cell_type": "code",
   "execution_count": 271,
   "metadata": {
    "colab": {},
    "colab_type": "code",
    "id": "nBRVPrYbIKTQ"
   },
   "outputs": [],
   "source": [
    "#Submission\n",
    "submission_df.to_csv('submissions.csv',index=False)"
   ]
  },
  {
   "cell_type": "markdown",
   "metadata": {
    "colab_type": "text",
    "id": "H_pB8zTcIKTW"
   },
   "source": [
    "---"
   ]
  }
 ],
 "metadata": {
  "colab": {
   "collapsed_sections": [],
   "name": "Questions.ipynb",
   "provenance": [],
   "version": "0.3.2"
  },
  "kernelspec": {
   "display_name": "Python 3",
   "language": "python",
   "name": "python3"
  },
  "language_info": {
   "codemirror_mode": {
    "name": "ipython",
    "version": 3
   },
   "file_extension": ".py",
   "mimetype": "text/x-python",
   "name": "python",
   "nbconvert_exporter": "python",
   "pygments_lexer": "ipython3",
   "version": "3.7.8"
  },
  "toc": {
   "base_numbering": 1,
   "nav_menu": {},
   "number_sections": true,
   "sideBar": true,
   "skip_h1_title": false,
   "title_cell": "Table of Contents",
   "title_sidebar": "Contents",
   "toc_cell": false,
   "toc_position": {},
   "toc_section_display": true,
   "toc_window_display": false
  }
 },
 "nbformat": 4,
 "nbformat_minor": 4
}
